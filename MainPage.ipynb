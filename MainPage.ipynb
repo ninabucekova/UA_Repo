{
 "cells": [
  {
   "attachments": {},
   "cell_type": "markdown",
   "id": "1965c421-c313-4e02-815e-0bbcfd039238",
   "metadata": {},
   "source": [
    "# GG4257 - Urban Analytics: A Toolkit for Sustainable Urban Development\n",
    "## Lab Assignment No 1: Handling and GeoVisualisation of Urban Data\n",
    "\n",
    "## General Information\n",
    "- **Student ID No:** 200015399\n",
    "- **Degree Programme:** MA Economics and Geography\n",
    "- **Deadline Date:** 22 Feb 2024\n",
    "\n",
    "## GitHub Repository\n",
    "- **GitHub Link:** https://github.com/ninabucekova/UA_Repo\n",
    "\n",
    "This repository has the following structure:\n",
    "- this main page,\n",
    "- 4 folders: Lab_1, Lab_2, Lab_3 and Lab_4\n",
    "  \n",
    "Each of the four folders contains:\n",
    "- notebook with the code for given set of challenges.\n",
    "\n",
    "## Declaration\n",
    "\n",
    "In submitting this assignment, I hereby confirm that I have read the University's statement on Good Academic Practice. The following work is my own. Significant academic debts and borrowings have been properly acknowledged and referenced."
   ]
  },
  {
   "cell_type": "markdown",
   "id": "64a7e45d-98a1-4c95-a8e4-eee18668ba28",
   "metadata": {},
   "source": [
    "# Table of Contents\n",
    "\n",
    "1. [Introduction](#Introducction): How to Replicate the Code and Get the Required Data\n",
    "   \n",
    "2. <a href=\"Lab_1/Lab1_Challenges.ipynb\">Lab 1: Python Recap</a>\n",
    "\n",
    "3. <a href=\"Lab_2/Lab2_Challenges.ipynb#(Lab-2:-Data-manipulation-and-Web-services)\">Lab 2: Data Manipulation and Working with Web Services</a>\n",
    "\n",
    "4. <a href=\"Lab_3/Lab3_Challenges.ipynb\">Lab 3: Visualizing Large Spatial Datasets</a>\n",
    "\n",
    "8. <a href=\"Lab_4/Lab4_Challenges.ipynb\">Lab 4: Geovisualization Tools II - Apps</a>\n",
    "    \n",
    "9. [Final Remarks](#Final-Remarks): Limitations and Additional Comments"
   ]
  },
  {
   "cell_type": "markdown",
   "id": "7651068d-19d1-4dcc-b530-a2fc98f6156c",
   "metadata": {},
   "source": [
    "# Introduction\n"
   ]
  },
  {
   "cell_type": "markdown",
   "id": "16b9c8c6-e73b-45f8-ac25-7c44070341eb",
   "metadata": {},
   "source": [
    "## How to replicate the code?\n",
    "\n",
    "In Table of Contents above, you find links to notebooks with code for Lab 1 to Lab 4. To run these codes, you will need to obtain data that is used in the codes. Due to large size of many of the datasets used, they are not provided in the corresponding folders, Lab_1 to Lab_4. Data to run the code, first needs to be obtained as follows:\n",
    "\n",
    "### 1 Obtain data\n",
    "\n",
    "To obtain the data, please navigate into the following One Drive folder: https://universityofstandrews907-my.sharepoint.com/:f:/r/personal/nb220_st-andrews_ac_uk/Documents/GG4257/Assignment1_Data?csf=1&web=1&e=2eyzN4\n",
    "\n",
    "This folder contains four folders: Lab1_Data to Lab4_Data containing necessary datasets to run the code in this repository.\n",
    "\n",
    "### 2 Upload the data into corresponding folder in the repository\n",
    "\n",
    "Once you downloaded the folder above, you can navigate to folders Lab1_Data to Lab4_Data, and place them into corresponding folder, Lab_1 to Lab_4, in this repository.\n",
    "\n",
    "### 3 Run the code\n",
    "\n",
    "Once the data is uploaded into corresponding folders in this repository, it should be ready to run the code."
   ]
  },
  {
   "cell_type": "markdown",
   "id": "566fd8f3-1901-4344-adb7-7076aa854446",
   "metadata": {},
   "source": [
    "# Final Remarks"
   ]
  },
  {
   "cell_type": "markdown",
   "id": "7d130c10-47a4-4ce2-9714-19d10afef714",
   "metadata": {},
   "source": [
    "- Limitations\n",
    "- Barriers\n",
    "- and Additional Comments"
   ]
  }
 ],
 "metadata": {
  "kernelspec": {
   "display_name": "Python 3 (ipykernel)",
   "language": "python",
   "name": "python3"
  },
  "language_info": {
   "codemirror_mode": {
    "name": "ipython",
    "version": 3
   },
   "file_extension": ".py",
   "mimetype": "text/x-python",
   "name": "python",
   "nbconvert_exporter": "python",
   "pygments_lexer": "ipython3",
   "version": "3.10.13"
  }
 },
 "nbformat": 4,
 "nbformat_minor": 5
}
